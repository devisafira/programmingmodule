{
 "cells": [
  {
   "cell_type": "markdown",
   "metadata": {},
   "source": [
    "## King’s College London\n",
    "### Faculty of Arts & Humanities\n",
    "### Coversheet for submission of coursework\n",
    "### (Undergraduate & Taught Postgraduate)\n",
    "\n",
    "**Complete all sections of this form and insert it as the first cell of the Jupyter Notebook you submit.**  \n",
    "**Failure to attach the coversheet as required may result in your work not being accepted for assessment.**\n",
    "\n",
    "**Module Title:** Introduction to Programming\t\n",
    "**Module Code:** 5AAVC210  \n",
    " \t\n",
    "**Assignment:** Project 2\t\n",
    "**Deadline:**\t06 May 2020\t \n",
    "\n",
    "---\n",
    "\n",
    "**DECLARATION BY STUDENT**\n",
    "\n",
    "This assignment is entirely my own work. Quotations from secondary literature are indicated by the use of inverted commas around ALL such quotations AND by reference in the text or notes to the author concerned.  ALL primary and secondary literature used in this piece of work is indicated, and dependence upon ANY source used is indicated at the appropriate point in the text.  I confirm that no sources have been used other than those stated. \n",
    "\n",
    "> - I understand what is meant by plagiarism and have signed at enrolment the declaration concerning the avoidance of plagiarism. \n",
    "> - I understand that plagiarism is a serious academic offence that may result in disciplinary action being taken.\n",
    "> - I understand that I must submit work BEFORE the deadline, and that failure to do so will result in capped marks.\n",
    "\n",
    "--- \n",
    "\n",
    "## Complete the following:\n",
    "\n",
    "**Candidate no.**\tA16011\t\t\t\t   \n",
    "(This is a letter followed by five digits, and can be found on Student Records)\n",
    "\n",
    "**Assignment tutor/group:**\tDr Kate Devlin, Dr Daniel Nemenyi\n",
    "**Date Submitted:** \t04/05/2020\n"
   ]
  },
  {
   "cell_type": "code",
   "execution_count": 12,
   "metadata": {},
   "outputs": [
    {
     "data": {
      "text/html": [
       "<div>\n",
       "<style scoped>\n",
       "    .dataframe tbody tr th:only-of-type {\n",
       "        vertical-align: middle;\n",
       "    }\n",
       "\n",
       "    .dataframe tbody tr th {\n",
       "        vertical-align: top;\n",
       "    }\n",
       "\n",
       "    .dataframe thead th {\n",
       "        text-align: right;\n",
       "    }\n",
       "</style>\n",
       "<table border=\"1\" class=\"dataframe\">\n",
       "  <thead>\n",
       "    <tr style=\"text-align: right;\">\n",
       "      <th></th>\n",
       "      <th>Name</th>\n",
       "      <th>Year</th>\n",
       "      <th>Category</th>\n",
       "      <th>Countries</th>\n",
       "      <th>Gender</th>\n",
       "      <th>Description</th>\n",
       "      <th>Details</th>\n",
       "    </tr>\n",
       "  </thead>\n",
       "  <tbody>\n",
       "    <tr>\n",
       "      <td>0</td>\n",
       "      <td>Frédéric Passy</td>\n",
       "      <td>1901</td>\n",
       "      <td>Peace</td>\n",
       "      <td>France</td>\n",
       "      <td>Man</td>\n",
       "      <td>NaN</td>\n",
       "      <td>NaN</td>\n",
       "    </tr>\n",
       "    <tr>\n",
       "      <td>1</td>\n",
       "      <td>Sully Prudhomme</td>\n",
       "      <td>1901</td>\n",
       "      <td>Literature</td>\n",
       "      <td>France</td>\n",
       "      <td>Man</td>\n",
       "      <td>NaN</td>\n",
       "      <td>NaN</td>\n",
       "    </tr>\n",
       "    <tr>\n",
       "      <td>2</td>\n",
       "      <td>Emil Adolf von Behring</td>\n",
       "      <td>1901</td>\n",
       "      <td>Physiology or Medicine</td>\n",
       "      <td>Germany</td>\n",
       "      <td>Man</td>\n",
       "      <td>NaN</td>\n",
       "      <td>NaN</td>\n",
       "    </tr>\n",
       "    <tr>\n",
       "      <td>3</td>\n",
       "      <td>Wilhelm Röntgen</td>\n",
       "      <td>1901</td>\n",
       "      <td>Physics</td>\n",
       "      <td>Germany</td>\n",
       "      <td>Man</td>\n",
       "      <td>NaN</td>\n",
       "      <td>NaN</td>\n",
       "    </tr>\n",
       "    <tr>\n",
       "      <td>4</td>\n",
       "      <td>Jacobus Henricus van 't Hoff</td>\n",
       "      <td>1901</td>\n",
       "      <td>Chemistry</td>\n",
       "      <td>Netherlands</td>\n",
       "      <td>Man</td>\n",
       "      <td>NaN</td>\n",
       "      <td>NaN</td>\n",
       "    </tr>\n",
       "  </tbody>\n",
       "</table>\n",
       "</div>"
      ],
      "text/plain": [
       "                           Name  Year                Category    Countries  \\\n",
       "0                Frédéric Passy  1901                   Peace       France   \n",
       "1               Sully Prudhomme  1901              Literature       France   \n",
       "2        Emil Adolf von Behring  1901  Physiology or Medicine      Germany   \n",
       "3               Wilhelm Röntgen  1901                 Physics      Germany   \n",
       "4  Jacobus Henricus van 't Hoff  1901               Chemistry  Netherlands   \n",
       "\n",
       "  Gender Description Details  \n",
       "0    Man         NaN     NaN  \n",
       "1    Man         NaN     NaN  \n",
       "2    Man         NaN     NaN  \n",
       "3    Man         NaN     NaN  \n",
       "4    Man         NaN     NaN  "
      ]
     },
     "execution_count": 12,
     "metadata": {},
     "output_type": "execute_result"
    }
   ],
   "source": [
    "import pandas as pd\n",
    "\n",
    "# read the nobel prize winners csv\n",
    "df = pd.read_csv('nobel_prize_awarded_1901_2019.csv')\n",
    "df.head()\n"
   ]
  },
  {
   "cell_type": "code",
   "execution_count": 13,
   "metadata": {},
   "outputs": [
    {
     "name": "stdout",
     "output_type": "stream",
     "text": [
      "948\n",
      "54\n",
      "Women make up 5.7 % of Nobel Prize laureates throughout history. \n"
     ]
    }
   ],
   "source": [
    "# used len() to find the total number of laureates\n",
    "laureates = len(df)\n",
    "print(laureates)\n",
    "\n",
    "# used len() to find the total number of women laureates\n",
    "women_laureates = len(df[df.Gender == \"Woman\"])\n",
    "print(women_laureates)\n",
    "\n",
    "# find the percentage of women laureates throughout history\n",
    "women_percent = (women_laureates / laureates) * 100\n",
    "\n",
    "# round the percentage and added string\n",
    "print(\"Women make up\", round(women_percent, 2), \"% of Nobel Prize laureates throughout history. \")\n"
   ]
  },
  {
   "cell_type": "code",
   "execution_count": 14,
   "metadata": {},
   "outputs": [
    {
     "name": "stdout",
     "output_type": "stream",
     "text": [
      "In the 1990s 7 out of 104 Nobel Prize laureates were women, equalling to 6.73 %. \n"
     ]
    }
   ],
   "source": [
    "# find out the trajectory of women laureates in 10-year periods from the 1990s to the 2010s\n",
    "women = df[df.Gender == \"Woman\"]\n",
    "\n",
    "# 1990s, format used from https://thispointer.com/python-pandas-select-rows-in-dataframe-by-conditions-on-multiple-columns/#pandas_select_rows_1\n",
    "laureates_1990s = len(df[(df.Year >= 1990) & (df.Year <= 1999)])\n",
    "\n",
    "women_1990s = len(women[(women.Year >= 1990) & (women.Year <= 1999)])\n",
    "\n",
    "women_90s_percent = (women_1990s / laureates_1990s) * 100\n",
    "\n",
    "print(\"In the 1990s\", women_1990s, \"out of\", laureates_1990s,\"Nobel Prize laureates were women, equalling to\", round(women_90s_percent, 2), \"%. \")\n",
    "\n",
    "\n"
   ]
  },
  {
   "cell_type": "code",
   "execution_count": 15,
   "metadata": {},
   "outputs": [
    {
     "name": "stdout",
     "output_type": "stream",
     "text": [
      "In the 2000s 11 out of 122 Nobel Prize laureates were women, equalling to 9.02 %. \n"
     ]
    }
   ],
   "source": [
    "# 2000s\n",
    "laureates_2000s = len(df[(df.Year >= 2000) & (df.Year <= 2009)])\n",
    "\n",
    "women_2000s = len(women[(women.Year >= 2000) & (women.Year <= 2009)])\n",
    "\n",
    "women_00s_percent = (women_2000s / laureates_2000s) * 100\n",
    "\n",
    "print(\"In the 2000s\", women_2000s, \"out of\", laureates_2000s,\"Nobel Prize laureates were women, equalling to\", round(women_00s_percent, 2), \"%. \")"
   ]
  },
  {
   "cell_type": "code",
   "execution_count": 16,
   "metadata": {},
   "outputs": [
    {
     "name": "stdout",
     "output_type": "stream",
     "text": [
      "In the 2010s 13 out of 120 Nobel Prize laureates were women, equalling to 10.83 %. \n"
     ]
    }
   ],
   "source": [
    "# 2010s\n",
    "laureates_2010s = len(df[(df.Year >= 2010) & (df.Year <= 2019)])\n",
    "\n",
    "women_2010s = len(women[(women.Year >= 2010) & (women.Year <= 2019)])\n",
    "\n",
    "women_10s_percent = (women_2010s / laureates_2010s) * 100\n",
    "\n",
    "\n",
    "print(\"In the 2010s\", women_2010s, \"out of\", laureates_2010s,\"Nobel Prize laureates were women, equalling to\", round(women_10s_percent, 2), \"%. \")\n",
    "\n",
    "\n",
    "\n"
   ]
  },
  {
   "cell_type": "code",
   "execution_count": 17,
   "metadata": {},
   "outputs": [],
   "source": [
    "# import the required module\n",
    "import matplotlib.pyplot as plt\n"
   ]
  },
  {
   "cell_type": "code",
   "execution_count": 18,
   "metadata": {},
   "outputs": [
    {
     "data": {
      "image/png": "[encoded data removed]",
      "text/plain": [
       "<Figure size 432x288 with 1 Axes>"
      ]
     },
     "metadata": {
      "needs_background": "light"
     },
     "output_type": "display_data"
    }
   ],
   "source": [
    "# x axis values\n",
    "x = [\"1990s\", \"2000s\", \"2010s\"]\n",
    "# y axis values\n",
    "y = [round(women_90s_percent, 2) , round(women_00s_percent, 2), round(women_10s_percent, 2)]\n",
    "\n",
    "# plotting the points  \n",
    "plt.plot(x, y)\n",
    "\n",
    "# naming the x axis \n",
    "plt.xlabel('time period') \n",
    "# naming the y axis \n",
    "plt.ylabel('%') \n",
    "  \n",
    "# giving a title to my graph \n",
    "plt.title('Percentage of Women Nobel Laureates from the 1990s to the 2010s') \n",
    "  \n",
    "# function to show the plot \n",
    "plt.show()"
   ]
  },
  {
   "cell_type": "code",
   "execution_count": null,
   "metadata": {},
   "outputs": [],
   "source": []
  }
 ],
 "metadata": {
  "kernelspec": {
   "display_name": "Python 3",
   "language": "python",
   "name": "python3"
  },
  "language_info": {
   "codemirror_mode": {
    "name": "ipython",
    "version": 3
   },
   "file_extension": ".py",
   "mimetype": "text/x-python",
   "name": "python",
   "nbconvert_exporter": "python",
   "pygments_lexer": "ipython3",
   "version": "3.7.4"
  }
 },
 "nbformat": 4,
 "nbformat_minor": 2
}
