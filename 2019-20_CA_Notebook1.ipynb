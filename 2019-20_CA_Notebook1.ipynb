{
 "cells": [
  {
   "cell_type": "markdown",
   "metadata": {},
   "source": [
    "<div style=\"display: block; width: 100%; height: 100px;\">\n",
    "\n",
    "<p style=\"float: left;\">\n",
    "    <span style=\"font-weight: bold; line-height: 24px; font-size: 16px;\">\n",
    "        Department of Digital Humanities\n",
    "        <br />\n",
    "        5AAVC210 Introduction to Programming\n",
    "    </span>\n",
    "    <br >\n",
    "    <span style=\"line-height: 22x; font-size: 14x; margin-top: 10px;\">\n",
    "        Submit your completed answers through <a href=\"https://keats.kcl.ac.uk/course/view.php?id=65312\">KEATS</a>\n",
    "    </span>\n",
    "</p>\n",
    "\n",
    "<img style=\"width: 120px; height: 90px; float: right; margin: 0 0 0 0;\" src=\"data:image/svg+xml;base64,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\" />\n",
    "</div>"
   ]
  },
  {
   "cell_type": "markdown",
   "metadata": {},
   "source": [
    "# Week 1: Welcome, Induction and Syntax!\n",
    "\n"
   ]
  },
  {
   "cell_type": "markdown",
   "metadata": {},
   "source": [
    "Welcome to the 5AAVC210 Introduction to Programming in Python Module!\n",
    "\n",
    "This module aims to teach you the basic syntax and structures of the python programming language, allowing you to write programs aimed at solving problems and analyzing data.\n",
    "\n",
    "By the end of the module, you should:\n",
    "\n",
    "* have a systematic understanding of how to create and run a Python program;\n",
    "* have a detailed knowledge of the basic structures that underlie the Python programming language;\n",
    "* be able to identify and analyse a problem and select the appropriate programmatic methods to solve that problem;\n",
    "* harvest data from the web by using Python’s third-party libraries request and beautifulsoup;\n",
    "* visualize and analyze harvested data by using Python’s third-party libraries. \n",
    "\n",
    "## How the Course Works\n",
    "\n",
    "The course is taught through ten lectures, and ten seminars/practicals. You will be expected to work through a total of five Jupyter notebooks (this is the first one) and complete the exercises in it. You have two weeks to complete each notebook and then [submit the notebook via KEATS](https://keats.kcl.ac.uk/course/view.php?id=52821) **before the deadline**.\n",
    "\n",
    "There are three components to the assessment:\n",
    "\n",
    "* Continual assessment via five weekly notebook submissions like this one (4% per notebook);\n",
    "* Mid-term project (30%);\n",
    "* End of term project (50%).\n",
    "\n",
    "## How to succeed\n",
    "Practice! The very best way to learn how to program is to program. Get stuck in, make mistakes (it's fine to make mistakes – it's how we learn), code, code, code, follow online tutorials, code some more.\n",
    "\n",
    "This is a very different way of thinking and working to most of your other modules. We give you the explanations and the theory but you have to put in the practice. It's incredibly intensive at the start because there is a steep learning curve, but you need to put the work in at the beginning so that you can tackle the assignments with confidence. If you haven't done any programming before it may seem daunting, but don't worry – we will start at the very start and help you step-by-step. \n",
    "\n",
    "\n",
    "## This Week's Aims\n",
    "\n",
    "This week we're going to ensure that everyone can run Python on their computers, and then focus on some of the basic Python syntax (i.e., the grammar of the language). By the end of this week, you should:\n",
    "\n",
    "* be comfortable running Python in a Jupyter notebook on a KCL computer and/or your own laptop;\n",
    "* uderstand how to use a Jupyter notebook;\n",
    "* have written a `Hello, World!` program;\n",
    "* understand how to use the `print()` function, assign values to a variable and have a basic understanding of types;\n",
    "* know what a comment is;\n",
    "* be able to use the addition operator;\n",
    "* know the meanings of the following terms: `string`, `integer`, `type`, `variable`.\n",
    "\n",
    "*With the induction out of the way, let's crack on and begin to learn how to write code!*"
   ]
  },
  {
   "cell_type": "markdown",
   "metadata": {},
   "source": [
    "# 1. `Hello, World!`\n",
    "\n",
    "\n",
    "Even if programming is a [comparatively young art](https://en.wikipedia.org/wiki/History_of_programming_languages), it still has its traditions. One of these traditions is the `Hello, World!` program which is the first program that most people ever write whilst learning how to program; [it dates back as far as 1974](https://en.wikipedia.org/wiki/%22Hello,_World!%22_program).\n",
    "\n",
    "\n",
    "### Exercise\n",
    "<font color=purple> In the cell below, you will now write your own `Hello, World!` program. Once you have figured out what to write, run it using the button marked <i class=\"fa-step-forward fa\"></i> `Run` and see what appears! **[5 marks]**</font>\n",
    "\n",
    "As a tip, you want to pass text (inside `'quotation marks like this'`) to the `print()` **function**. You can think of functions as tools which do things in your program. They take **arguments** `('inside brackets like this')`. You therefore need to supply `'Hello, World!'` as an argument to the `print()` function.\n"
   ]
  },
  {
   "cell_type": "code",
   "execution_count": 3,
   "metadata": {},
   "outputs": [
    {
     "name": "stdout",
     "output_type": "stream",
     "text": [
      "Hello, World!\n"
     ]
    }
   ],
   "source": [
    "# put your Hello, World! code in this cell. \n",
    "print(\"Hello, World!\")\n"
   ]
  },
  {
   "cell_type": "markdown",
   "metadata": {},
   "source": [
    "## 2. Python, Jupyter and our Notebooks\n",
    "\n",
    "Congratulations, you're now a programmer! Before we go on though, a quick word about Python itself, and how notebooks will work throughout this course.\n",
    "\n",
    "Python is the name of a programming language created by [Guido van Rossum](https://en.wikipedia.org/wiki/Guido_van_Rossum) in the early 1990s, and it is one of many, many programming languages available. Python is a very robust and very popular language, which is why we have chosen to learn it on our course. There are lots of ways that Python can be run. The way we have chosen to run Python is using *Jupyter Notebooks*, which provide a useable web interface, and allow you to combine text (like this) with code (like the `Hello, World!` program above) very neatly and clearly.\n",
    "\n",
    "You are expected to submit Jupyter Notebooks for all of your assignments, and use a mixture of text cells and code cells to make your code clear and easy to read.\n",
    "\n",
    "In these notebooks, you will mostly be asked to write code in code cells, but occasionally you will also be asked to type into a text cell.\n",
    "\n",
    "Every cell has to be <i class=\"fa-step-forward fa\"></i> `Run` to work. For more complex programs, **it will be important to run the cells in the right order**, too (i.e., run the cell at the top first, then the next one down etc.). \n",
    "\n",
    "You can specify the type of a cell in the `Cell > Type` menu. Text cells have the type [`Markdown`, which is a very basic and easy to write formatting system](https://github.com/adam-p/markdown-here/wiki/Markdown-Cheatsheet) (you don't have to use Markdown or any styling in your answers, plain text is fine). To edit a text cell which has already been run, just double click on it.\n",
    "\n",
    "You can also insert cells using the `Insert` menu, and move them up and down relative to one another using the <i class=\"fa-arrow-up fa\"></i> and <i class=\"fa-arrow-down fa\"></i> buttons.\n",
    "\n",
    "### Comments\n",
    "\n",
    "You'll also find that a lot of cells have comments in them. A comment is a note we leave for ourselves when writing code, explaining what we're thinking or doing. Python ignores these comments entirely, so we can write in human languages.\n",
    "\n",
    "A comment is anything that starts with the hash (`#`) symbol, a comment can take up an entire line, or just the rest of a line containing code. See the two comments below."
   ]
  },
  {
   "cell_type": "code",
   "execution_count": 10,
   "metadata": {},
   "outputs": [
    {
     "name": "stdout",
     "output_type": "stream",
     "text": [
      "Woof!\n",
      "Meow!\n"
     ]
    }
   ],
   "source": [
    "# here's a dog\n",
    "print('Woof!')\n",
    "print('Meow!')  # and that was a cat\n",
    "# but let's hide the bird\n",
    "# print('Poo-tee-weet!')"
   ]
  },
  {
   "cell_type": "markdown",
   "metadata": {},
   "source": [
    "It's good to include comments in your code to explain what is happening in it or what the intention of the code is. You'll also sometimes be asked to 'comment out' a line to stop it from running (like `print('Poo-tee-weet!')` above)."
   ]
  },
  {
   "cell_type": "markdown",
   "metadata": {},
   "source": [
    "### Exercise\n",
    "<font color=purple> \n",
    "1. Write something in this text cell to show you have understood how to edit text cells. **[5 marks]** \n",
    "2. Insert a code cell below it and copy your `Hello, World!` program into it and add a comment explaining the code. **[5 marks]**\n",
    "3. Insert another code cell below the one you just added, and copy the animals code from the cell above into it, then uncomment the line which prints the bird noise. **[5 marks]**\n",
    "4. This is a sample text</font>"
   ]
  },
  {
   "cell_type": "code",
   "execution_count": 4,
   "metadata": {},
   "outputs": [
    {
     "name": "stdout",
     "output_type": "stream",
     "text": [
      "Hello, World!\n"
     ]
    }
   ],
   "source": [
    "print(\"Hello, World!\")\n",
    "# this command prints Hello, World!"
   ]
  },
  {
   "cell_type": "code",
   "execution_count": 5,
   "metadata": {},
   "outputs": [
    {
     "name": "stdout",
     "output_type": "stream",
     "text": [
      "Woof!\n",
      "Meow!\n",
      "Poo-tee-weet!\n"
     ]
    }
   ],
   "source": [
    "# here's a dog\n",
    "print('Woof!')\n",
    "print('Meow!')  # and that was a cat\n",
    "# but let's hide the bird\n",
    "print('Poo-tee-weet!')"
   ]
  },
  {
   "cell_type": "markdown",
   "metadata": {},
   "source": [
    "## 3. Printing Things\n",
    "\n",
    "Now we're going to practice printing some more strings.\n",
    "\n",
    "[_Composed upon Westminster Bridge, September 3, 1802_](https://en.wikipedia.org/wiki/Composed_upon_Westminster_Bridge,_September_3,_1802) is a sonnet by the English poet William Wordsworth describing London and the River Thames, viewed from Westminster Bridge (very close to us here at King's) in the early morning. It was first published in 1807.\n",
    "\n",
    "The first two lines of the poem are in comments in the cell below.\n",
    "### Exercise\n",
    "<font color=purple> Change the code so that these lines are printed. **[5 marks]**</font>"
   ]
  },
  {
   "cell_type": "code",
   "execution_count": 8,
   "metadata": {},
   "outputs": [
    {
     "name": "stdout",
     "output_type": "stream",
     "text": [
      "Earth has not any thing to show more fair:\n",
      "Dull would he be of soul who could pass by\n"
     ]
    }
   ],
   "source": [
    "print('Earth has not any thing to show more fair:')\n",
    "print('Dull would he be of soul who could pass by') "
   ]
  },
  {
   "cell_type": "markdown",
   "metadata": {},
   "source": [
    "Sometimes, we want to print more than one thing at a time. In Python, we can do this by either calling the `print()` statement twice (one after the other), or supplying two arguments to `print()`, one after the other. You can see this in the cell below. "
   ]
  },
  {
   "cell_type": "code",
   "execution_count": 12,
   "metadata": {},
   "outputs": [
    {
     "name": "stdout",
     "output_type": "stream",
     "text": [
      "this is one argument and this is another\n"
     ]
    }
   ],
   "source": [
    "print(\"this is one argument\", \"and this is another\")"
   ]
  },
  {
   "cell_type": "markdown",
   "metadata": {},
   "source": [
    "### Exercise \n",
    "<font color=purple> Rewrite the first two lines of the poem in the manner above. **[5 marks]**</font>"
   ]
  },
  {
   "cell_type": "code",
   "execution_count": 9,
   "metadata": {},
   "outputs": [
    {
     "name": "stdout",
     "output_type": "stream",
     "text": [
      "Earth has not any thing to show more fair: Dull would he be of soul who could pass by\n"
     ]
    }
   ],
   "source": [
    "print('Earth has not any thing to show more fair:', 'Dull would he be of soul who could pass by')"
   ]
  },
  {
   "cell_type": "markdown",
   "metadata": {},
   "source": [
    "*** \n",
    "<div style=\"text-align: left;\">\n",
    "Here are the first ten lines of the poem: <br/> \n",
    "\n",
    "\n",
    "*Earth has not anything to show more fair:<br/>\n",
    "Dull would he be of soul who could pass by<br/>\n",
    "A sight so touching in its majesty:<br/>\n",
    "This City now doth, like a garment, wear<br/>\n",
    "The beauty of the morning; silent, bare,<br/>\n",
    "Ships, towers, domes, theatres and temples lie<br/>\n",
    "Open unto the fields, and to the sky;<br/>\n",
    "All bright and glittering in the smokeless air.<br/>\n",
    "Never did sun more beautifully steep<br/>\n",
    "In his first splendor, valley, rock, or hill;*<br/>\n",
    "</div>\n",
    "\n",
    "### Exercise\n",
    "<font color=purple> Now print the above lines of the poem using code. Write the code in the cell below and ensure that each line is printed on a new line. **[5 marks]**</font>\n",
    "<br/>"
   ]
  },
  {
   "cell_type": "code",
   "execution_count": 10,
   "metadata": {},
   "outputs": [
    {
     "name": "stdout",
     "output_type": "stream",
     "text": [
      "Earth has not anything to show more fair:\n",
      "Dull would he be of soul who could pass by\n",
      "A sight so touching in its majesty:\n",
      "This City now doth, like a garment, wear\n",
      "The beauty of the morning; silent, bare,\n",
      "Ships, towers, domes, theatres and temples lie\n",
      "Open unto the fields, and to the sky;\n",
      "All bright and glittering in the smokeless air.\n",
      "Never did sun more beautifully steep\n",
      "In his first splendor, valley, rock, or hill;\n"
     ]
    }
   ],
   "source": [
    "# put your code in here\n",
    "print('Earth has not anything to show more fair:')\n",
    "print('Dull would he be of soul who could pass by')\n",
    "print('A sight so touching in its majesty:')\n",
    "print('This City now doth, like a garment, wear')\n",
    "print('The beauty of the morning; silent, bare,')\n",
    "print('Ships, towers, domes, theatres and temples lie')\n",
    "print('Open unto the fields, and to the sky;')\n",
    "print('All bright and glittering in the smokeless air.')\n",
    "print('Never did sun more beautifully steep')\n",
    "print('In his first splendor, valley, rock, or hill;')"
   ]
  },
  {
   "cell_type": "markdown",
   "metadata": {},
   "source": [
    "So far our text so far has been quite simple and not contained any special characters like quotation marks. But what if our text is more complicated? Well, unfortunately the final lines of the poem are a little more complex. See what happens when we try to print this?"
   ]
  },
  {
   "cell_type": "code",
   "execution_count": 15,
   "metadata": {},
   "outputs": [
    {
     "ename": "SyntaxError",
     "evalue": "invalid syntax (<ipython-input-15-2ada6b7536b3>, line 1)",
     "output_type": "error",
     "traceback": [
      "\u001b[0;36m  File \u001b[0;32m\"<ipython-input-15-2ada6b7536b3>\"\u001b[0;36m, line \u001b[0;32m1\u001b[0m\n\u001b[0;31m    print('Ne'er saw I, never felt, a calm so deep!')\u001b[0m\n\u001b[0m               ^\u001b[0m\n\u001b[0;31mSyntaxError\u001b[0m\u001b[0;31m:\u001b[0m invalid syntax\n"
     ]
    }
   ],
   "source": [
    "print('Ne'er saw I, never felt, a calm so deep!')"
   ]
  },
  {
   "cell_type": "markdown",
   "metadata": {},
   "source": [
    "Oh no! Our first `SyntaxError` - now you're really a programmer! \n",
    "\n",
    "Don't worry when you see something like this - it's called a **traceback** and shows where there's an error in your code and how to fix it. This error is a `SyntaxError`, it means that there is a problem in the way your code is written, think of it like a spelling or grammar error in an essay. The exact spot where python got confused is shown using the caret symbol (`^`).\n",
    "\n",
    "### Exercise\n",
    "<font color=purple> Explain what is causing this error in the text cell below. **[5 marks]** </font>"
   ]
  },
  {
   "cell_type": "markdown",
   "metadata": {},
   "source": [
    "*This error is happening because... there is a quotation mark in the middle of the sentence*"
   ]
  },
  {
   "cell_type": "markdown",
   "metadata": {},
   "source": [
    "Luckily, whenever you encounter an error, it's generally quite easy to find help. In this case, [there's a handy online tutorial which can assist](https://www.digitalocean.com/community/tutorials/how-to-format-text-in-python-3). \n",
    "\n",
    "### Exercise\n",
    "<font color=purple> Read through this then print out the final four lines which are commented out below. **[5 marks]**</font>"
   ]
  },
  {
   "cell_type": "code",
   "execution_count": 12,
   "metadata": {},
   "outputs": [
    {
     "name": "stdout",
     "output_type": "stream",
     "text": [
      "Ne'er saw I, never felt, a calm so deep!\n",
      "The river glideth at his own sweet will:\n",
      "Dear God! The very houses seem asleep;\n",
      "And all that mighty heart is lying still!\n"
     ]
    }
   ],
   "source": [
    "print(\"Ne'er saw I, never felt, a calm so deep!\")\n",
    "print(\"The river glideth at his own sweet will:\")\n",
    "print(\"Dear God! The very houses seem asleep;\")\n",
    "print(\"And all that mighty heart is lying still!\")"
   ]
  },
  {
   "cell_type": "markdown",
   "metadata": {},
   "source": [
    "## 4. Variables and Types\n",
    "\n",
    "Okay, so now we can print things comfortably. But what about if we want to print something other than just text? \n",
    "\n",
    "So far, everything we've printed has been a direct text value that we've written into the code ourselves. In Python, we call something we literally write into the code a **literal**. This is as opposed to a variable, which is simply a name or placeholder for something that can take any value.\n",
    "\n",
    "In Python, we create a variable by **assigning** it a value. We do this using the **assignment operator**, otherwise known as the equals (`=`) sumbol. For example, to assign the value `\"woof\"` to the variable `dog` we would write `dog = \"woof\"`.\n",
    "\n",
    "### Exercise \n",
    "<font color=purple> In the cell below, write code which assigns a text value to a variable, then print the variable. **[5 marks]**  </font>"
   ]
  },
  {
   "cell_type": "code",
   "execution_count": 14,
   "metadata": {},
   "outputs": [
    {
     "name": "stdout",
     "output_type": "stream",
     "text": [
      "hello\n"
     ]
    }
   ],
   "source": [
    "x = \"hello\"\n",
    "print(x)"
   ]
  },
  {
   "cell_type": "markdown",
   "metadata": {},
   "source": [
    "Variables (and well, everything) in python have types. So far we have only come across one type: **strings** (which are what we call text, i.e., strings of characters). \n",
    "\n",
    "Now we're going to look at **integers** (whole numbers) and **floats** (numbers with a decimal point). There are several other basic types (which we'll cover next week), and in advanced python programs we can also make our own types to suit our program.\n",
    "\n",
    "So, the three types we'll cover this week are: \n",
    "\n",
    "* `str` - strings, or text\n",
    "* `int` - whole numbers\n",
    "* `float` - numbers with a decimal point e.g., 1.0 or 1.5\n",
    "\n",
    "### Exercise\n",
    "<font color=purple> **Spot the Strings!**<br/>\n",
    "Uncomment all the strings in the cell below, and write code so thay they are printed out to the user. **[5 marks]** </font>"
   ]
  },
  {
   "cell_type": "code",
   "execution_count": 17,
   "metadata": {},
   "outputs": [
    {
     "name": "stdout",
     "output_type": "stream",
     "text": [
      "Hello there!\n",
      "29\n",
      "William Wordsworth (7 April 1770 – 23 April 1850) was an English Romantic poet\n",
      "Wordsworth was Britain's poet laureate from 1843 to 1850.\n"
     ]
    }
   ],
   "source": [
    "# 100\n",
    "a = \"Hello there!\"\n",
    "print(a)\n",
    "b = '29'\n",
    "print(b)\n",
    "c = \"\"\"William Wordsworth (7 April 1770 – 23 April 1850) was an English Romantic poet\"\"\"\n",
    "print(c)\n",
    "d = '''Wordsworth was Britain's poet laureate from 1843 to 1850.'''\n",
    "print (d)\n",
    "# 2.90\n",
    "# 33"
   ]
  },
  {
   "cell_type": "markdown",
   "metadata": {},
   "source": [
    "<font color=purple> **Identify the Integers!**<br/> \n",
    "Do the same for all the integers in the cell below. **[5 marks]** </font>"
   ]
  },
  {
   "cell_type": "code",
   "execution_count": 18,
   "metadata": {},
   "outputs": [
    {
     "name": "stdout",
     "output_type": "stream",
     "text": [
      "33\n",
      "0\n",
      "67\n"
     ]
    }
   ],
   "source": [
    "# One hundred\n",
    "e = 33\n",
    "print(e)\n",
    "# 3.33\n",
    "# \"100\"\n",
    "# \"101.1\"\n",
    "f = 0\n",
    "print(f)\n",
    "g = 67\n",
    "print(g)\n",
    "# None"
   ]
  },
  {
   "cell_type": "markdown",
   "metadata": {},
   "source": [
    "<font color=purple> **Find the Floats!**<br/> \n",
    "And finally do the same for the floats in the cell below. **[5 marks]** </font>"
   ]
  },
  {
   "cell_type": "code",
   "execution_count": 19,
   "metadata": {},
   "outputs": [
    {
     "name": "stdout",
     "output_type": "stream",
     "text": [
      "2.0\n",
      "1.11\n"
     ]
    }
   ],
   "source": [
    "# 1.\n",
    "# 2.\n",
    "h = 2.0\n",
    "print(h)\n",
    "i = 1.11\n",
    "print(i)\n",
    "# 1\n",
    "# 2390\n",
    "# \"1.2\""
   ]
  },
  {
   "cell_type": "markdown",
   "metadata": {},
   "source": [
    "To find out a variable's type, we can use the `type()` function. Try running the example below."
   ]
  },
  {
   "cell_type": "code",
   "execution_count": 20,
   "metadata": {},
   "outputs": [
    {
     "name": "stdout",
     "output_type": "stream",
     "text": [
      "<class 'str'>\n"
     ]
    }
   ],
   "source": [
    "print(type(\"Hello, World!\"))"
   ]
  },
  {
   "cell_type": "markdown",
   "metadata": {},
   "source": [
    "### Exercise\n",
    "\n",
    "<font color=purple> In the cell below there are three variables. Using only three `print()` statements, print out the value of each variable and its type (*tip: use the `type()` function to find the type, rather than just writing it out*). **[5 marks]** </font>"
   ]
  },
  {
   "cell_type": "code",
   "execution_count": 31,
   "metadata": {},
   "outputs": [
    {
     "name": "stdout",
     "output_type": "stream",
     "text": [
      "fair <class 'str'>\n",
      "27 <class 'int'>\n",
      "1000000.0 <class 'float'>\n"
     ]
    }
   ],
   "source": [
    "Earth = \"fair\"\n",
    "my_age = 27\n",
    "i_deserve = 1000000.00\n",
    "\n",
    "# put your answer below!\n",
    "print(Earth, type(Earth))\n",
    "print(my_age, type(my_age))\n",
    "print(i_deserve, type(i_deserve))"
   ]
  },
  {
   "cell_type": "markdown",
   "metadata": {},
   "source": [
    "Variables are fundamental to programming and you will use them throughout the course and during the rest of your programming career. \n",
    "\n",
    "As a first example of their use, let's imagine we want to display something to the user that we may wish to work out, or take values for from elsewhere. \n",
    "\n",
    "You can see this in the example below – try changing the values below to different strings. \n"
   ]
  },
  {
   "cell_type": "code",
   "execution_count": 30,
   "metadata": {},
   "outputs": [
    {
     "name": "stdout",
     "output_type": "stream",
     "text": [
      "She is a musician and She is talented\n"
     ]
    }
   ],
   "source": [
    "pronoun = \"She\"\n",
    "occupation = \"musician\"\n",
    "description = \"talented\"\n",
    "print(pronoun, \"is a\", occupation, \"and\", pronoun, \"is\", description)"
   ]
  },
  {
   "cell_type": "markdown",
   "metadata": {},
   "source": [
    "## 5. Terminology "
   ]
  },
  {
   "cell_type": "markdown",
   "metadata": {},
   "source": [
    "### Exercise \n",
    "<font color=purple> In the cell below explain what each of the terms mean. **[5 marks for each]** </font>"
   ]
  },
  {
   "cell_type": "markdown",
   "metadata": {},
   "source": [
    "**Syntax error**\n",
    "A type of error message, also known as parsing errors\n",
    "\n",
    "**Variable**\n",
    "Containers that hold information (value)\n",
    "\n",
    "**Type**\n",
    "a function that categorizes objects\n",
    "\n",
    "**Integer**\n",
    "Whole numbers, positive or negative\n",
    "\n",
    "**Float**\n",
    "Numbers with decimal places\n",
    "\n",
    "**String**\n",
    "Text surrounded by either single quotation marks, or double quotation marks\n"
   ]
  },
  {
   "cell_type": "markdown",
   "metadata": {},
   "source": [
    "# Optional: Going Further\n",
    "\n",
    "If you would like to go beyond the material covered in this week's practical, here are some good links and tips.\n",
    "\n",
    "* [Good tutorial on variables and types](https://www.learnpython.org/en/Variables_and_Types). \n"
   ]
  },
  {
   "cell_type": "markdown",
   "metadata": {},
   "source": [
    "**Don't forget to submit your code!** "
   ]
  }
 ],
 "metadata": {
  "kernelspec": {
   "display_name": "Python 3",
   "language": "python",
   "name": "python3"
  },
  "language_info": {
   "codemirror_mode": {
    "name": "ipython",
    "version": 3
   },
   "file_extension": ".py",
   "mimetype": "text/x-python",
   "name": "python",
   "nbconvert_exporter": "python",
   "pygments_lexer": "ipython3",
   "version": "3.7.4"
  }
 },
 "nbformat": 4,
 "nbformat_minor": 2
}
